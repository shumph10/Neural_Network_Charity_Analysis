{
  "nbformat": 4,
  "nbformat_minor": 0,
  "metadata": {
    "colab": {
      "name": "TensorFlow_setup_practice.ipynb",
      "provenance": [],
      "collapsed_sections": [],
      "authorship_tag": "ABX9TyO0MwrVeri2Z5vk4Y3367T6"
    },
    "kernelspec": {
      "name": "python3",
      "display_name": "Python 3"
    },
    "language_info": {
      "name": "python"
    }
  },
  "cells": [
    {
      "cell_type": "code",
      "execution_count": 1,
      "metadata": {
        "id": "H5lHhBG8HvfB"
      },
      "outputs": [],
      "source": [
        "# Import our dependencies\n",
        "import pandas as pd\n",
        "import matplotlib as plt\n",
        "from sklearn.datasets import make_blobs\n",
        "import sklearn as skl\n",
        "import tensorflow as tf"
      ]
    },
    {
      "cell_type": "code",
      "source": [
        "#generate synthetic dataset\n",
        "X, y = make_blobs(n_samples=1000, centers=2, n_features=2, random_state=78)\n",
        "\n",
        "#create a df with the syn dataset\n",
        "df= pd.DataFrame(X, columns=['feature1', 'feature2'])\n",
        "df['target'] = y\n",
        "\n",
        "#plot the syn data\n",
        "df.plot.scatter(x='feature1', y='feature2', c='target', colormap='winter')"
      ],
      "metadata": {
        "colab": {
          "base_uri": "https://localhost:8080/",
          "height": 275
        },
        "id": "7Wu8nNlgH4O9",
        "outputId": "853ed703-a531-4211-a384-17118d1fbaa3"
      },
      "execution_count": 2,
      "outputs": [
        {
          "output_type": "execute_result",
          "data": {
            "text/plain": [
              "<matplotlib.axes._subplots.AxesSubplot at 0x7ff866e30510>"
            ]
          },
          "metadata": {},
          "execution_count": 2
        },
        {
          "output_type": "display_data",
          "data": {
            "text/plain": [
              "<Figure size 432x288 with 2 Axes>"
            ],
            "image/png": "[encoded data removed]"
          },
          "metadata": {
            "needs_background": "light"
          }
        }
      ]
    },
    {
      "cell_type": "code",
      "source": [
        "#split data into training and testing\n",
        "from sklearn.model_selection import train_test_split\n",
        "X_train, X_test, y_train, y_test = train_test_split(X, y, random_state=78)"
      ],
      "metadata": {
        "id": "Pv7H4NSHIujO"
      },
      "execution_count": 3,
      "outputs": []
    },
    {
      "cell_type": "code",
      "source": [
        "#prep data for the model by scaling\n",
        "from sklearn.preprocessing import StandardScaler\n",
        "#create the scaler instance\n",
        "scaler = StandardScaler()\n",
        "\n",
        "#fit the scaler\n",
        "X_scaler = scaler.fit(X_train)\n",
        "\n",
        "#scale the data\n",
        "X_train_scaled = X_scaler.transform(X_train)\n",
        "X_test_scaled = X_scaler.transform(X_test)"
      ],
      "metadata": {
        "id": "B_C6KrJHJD_u"
      },
      "execution_count": 4,
      "outputs": []
    },
    {
      "cell_type": "code",
      "source": [
        "#create the keras sequential model\n",
        "nm_model = tf.keras.models.Sequential()\n"
      ],
      "metadata": {
        "id": "vjZMTRLvJqRl"
      },
      "execution_count": 5,
      "outputs": []
    },
    {
      "cell_type": "code",
      "source": [
        "#add the first Dense layer, including the input layer\n",
        "  #first layer and input layer are always built in the same instance\n",
        "  #input dim will be 2 since there are 2 inputs (clusters?)\n",
        "  #units - the # of neurons we want in the hidden layer,\n",
        "  #activation funct will be ReLU to allow the hidden layer to identify and train on nonlinear relationships\n",
        "nm_model.add(tf.keras.layers.Dense(units=1, activation='relu', input_dim=2))"
      ],
      "metadata": {
        "id": "V4Hwv9-1KDwE"
      },
      "execution_count": 6,
      "outputs": []
    },
    {
      "cell_type": "code",
      "source": [
        "#add the output layer\n",
        "  #want binary classification so spec units (# of neurons) as 1\n",
        "  #use the sigmoid activation function to produce a probability output\n",
        "nm_model.add(tf.keras.layers.Dense(units=1, activation='sigmoid'))"
      ],
      "metadata": {
        "id": "4kgpshmRLlrl"
      },
      "execution_count": 7,
      "outputs": []
    },
    {
      "cell_type": "code",
      "source": [
        "#check the structure of the sequential model with a summary\n",
        "nm_model.summary()"
      ],
      "metadata": {
        "colab": {
          "base_uri": "https://localhost:8080/"
        },
        "id": "OnryjMuvMT2b",
        "outputId": "f962c1f9-07ca-4d92-b196-009a6d8856a1"
      },
      "execution_count": 8,
      "outputs": [
        {
          "output_type": "stream",
          "name": "stdout",
          "text": [
            "Model: \"sequential\"\n",
            "_________________________________________________________________\n",
            " Layer (type)                Output Shape              Param #   \n",
            "=================================================================\n",
            " dense (Dense)               (None, 1)                 3         \n",
            "                                                                 \n",
            " dense_1 (Dense)             (None, 1)                 2         \n",
            "                                                                 \n",
            "=================================================================\n",
            "Total params: 5\n",
            "Trainable params: 5\n",
            "Non-trainable params: 0\n",
            "_________________________________________________________________\n"
          ]
        }
      ]
    },
    {
      "cell_type": "code",
      "source": [
        "#compile the sequential model together and customize metrics\n",
        "  #using binary_crossentropy for loss metric bc it was made for binary classigication\n",
        "  #using optimizer function adam bc it uses a gradient approach to ensure the alg will \n",
        "    #not get stuck on weaker classifying features\n",
        "  #using accuracy eval metric bc thats what you use for classification,\n",
        "    #the higher the accuracy number the better\n",
        "\n",
        "nm_model.compile(loss='binary_crossentropy', optimizer='adam', metrics=['accuracy'])"
      ],
      "metadata": {
        "id": "OSf1cQu7Mkls"
      },
      "execution_count": 9,
      "outputs": []
    },
    {
      "cell_type": "code",
      "source": [
        "#fit the model to the training data with 100 epochs since thats about how \n",
        "  #many it too in the tensorFlow playground tests\n",
        "fit_model = nm_model.fit(X_train_scaled, y_train, epochs=100)"
      ],
      "metadata": {
        "colab": {
          "base_uri": "https://localhost:8080/"
        },
        "id": "MKcefguIP8O9",
        "outputId": "5d044071-9332-4d3b-d8be-6ee08e7d3b12"
      },
      "execution_count": 10,
      "outputs": [
        {
          "output_type": "stream",
          "name": "stdout",
          "text": [
            "Epoch 1/100\n",
            "24/24 [==============================] - 1s 3ms/step - loss: 0.7530 - accuracy: 0.2667\n",
            "Epoch 2/100\n",
            "24/24 [==============================] - 0s 2ms/step - loss: 0.7434 - accuracy: 0.2800\n",
            "Epoch 3/100\n",
            "24/24 [==============================] - 0s 4ms/step - loss: 0.7352 - accuracy: 0.3187\n",
            "Epoch 4/100\n",
            "24/24 [==============================] - 0s 3ms/step - loss: 0.7283 - accuracy: 0.3560\n",
            "Epoch 5/100\n",
            "24/24 [==============================] - 0s 2ms/step - loss: 0.7226 - accuracy: 0.3747\n",
            "Epoch 6/100\n",
            "24/24 [==============================] - 0s 2ms/step - loss: 0.7178 - accuracy: 0.3973\n",
            "Epoch 7/100\n",
            "24/24 [==============================] - 0s 3ms/step - loss: 0.7134 - accuracy: 0.4160\n",
            "Epoch 8/100\n",
            "24/24 [==============================] - 0s 3ms/step - loss: 0.7097 - accuracy: 0.4307\n",
            "Epoch 9/100\n",
            "24/24 [==============================] - 0s 3ms/step - loss: 0.7063 - accuracy: 0.4533\n",
            "Epoch 10/100\n",
            "24/24 [==============================] - 0s 3ms/step - loss: 0.7034 - accuracy: 0.4720\n",
            "Epoch 11/100\n",
            "24/24 [==============================] - 0s 2ms/step - loss: 0.7005 - accuracy: 0.4853\n",
            "Epoch 12/100\n",
            "24/24 [==============================] - 0s 3ms/step - loss: 0.6980 - accuracy: 0.4987\n",
            "Epoch 13/100\n",
            "24/24 [==============================] - 0s 2ms/step - loss: 0.6956 - accuracy: 0.5120\n",
            "Epoch 14/100\n",
            "24/24 [==============================] - 0s 3ms/step - loss: 0.6932 - accuracy: 0.5267\n",
            "Epoch 15/100\n",
            "24/24 [==============================] - 0s 4ms/step - loss: 0.6907 - accuracy: 0.5480\n",
            "Epoch 16/100\n",
            "24/24 [==============================] - 0s 3ms/step - loss: 0.6881 - accuracy: 0.5680\n",
            "Epoch 17/100\n",
            "24/24 [==============================] - 0s 3ms/step - loss: 0.6856 - accuracy: 0.5907\n",
            "Epoch 18/100\n",
            "24/24 [==============================] - 0s 3ms/step - loss: 0.6827 - accuracy: 0.5987\n",
            "Epoch 19/100\n",
            "24/24 [==============================] - 0s 3ms/step - loss: 0.6797 - accuracy: 0.6093\n",
            "Epoch 20/100\n",
            "24/24 [==============================] - 0s 3ms/step - loss: 0.6765 - accuracy: 0.6240\n",
            "Epoch 21/100\n",
            "24/24 [==============================] - 0s 3ms/step - loss: 0.6729 - accuracy: 0.6360\n",
            "Epoch 22/100\n",
            "24/24 [==============================] - 0s 3ms/step - loss: 0.6688 - accuracy: 0.6427\n",
            "Epoch 23/100\n",
            "24/24 [==============================] - 0s 3ms/step - loss: 0.6640 - accuracy: 0.6573\n",
            "Epoch 24/100\n",
            "24/24 [==============================] - 0s 2ms/step - loss: 0.6586 - accuracy: 0.6800\n",
            "Epoch 25/100\n",
            "24/24 [==============================] - 0s 3ms/step - loss: 0.6523 - accuracy: 0.6947\n",
            "Epoch 26/100\n",
            "24/24 [==============================] - 0s 3ms/step - loss: 0.6454 - accuracy: 0.7120\n",
            "Epoch 27/100\n",
            "24/24 [==============================] - 0s 3ms/step - loss: 0.6377 - accuracy: 0.7253\n",
            "Epoch 28/100\n",
            "24/24 [==============================] - 0s 2ms/step - loss: 0.6290 - accuracy: 0.7373\n",
            "Epoch 29/100\n",
            "24/24 [==============================] - 0s 3ms/step - loss: 0.6200 - accuracy: 0.7573\n",
            "Epoch 30/100\n",
            "24/24 [==============================] - 0s 2ms/step - loss: 0.6098 - accuracy: 0.7707\n",
            "Epoch 31/100\n",
            "24/24 [==============================] - 0s 2ms/step - loss: 0.5992 - accuracy: 0.7827\n",
            "Epoch 32/100\n",
            "24/24 [==============================] - 0s 2ms/step - loss: 0.5881 - accuracy: 0.7960\n",
            "Epoch 33/100\n",
            "24/24 [==============================] - 0s 2ms/step - loss: 0.5763 - accuracy: 0.8040\n",
            "Epoch 34/100\n",
            "24/24 [==============================] - 0s 2ms/step - loss: 0.5643 - accuracy: 0.8160\n",
            "Epoch 35/100\n",
            "24/24 [==============================] - 0s 2ms/step - loss: 0.5518 - accuracy: 0.8200\n",
            "Epoch 36/100\n",
            "24/24 [==============================] - 0s 2ms/step - loss: 0.5395 - accuracy: 0.8347\n",
            "Epoch 37/100\n",
            "24/24 [==============================] - 0s 2ms/step - loss: 0.5271 - accuracy: 0.8413\n",
            "Epoch 38/100\n",
            "24/24 [==============================] - 0s 2ms/step - loss: 0.5149 - accuracy: 0.8547\n",
            "Epoch 39/100\n",
            "24/24 [==============================] - 0s 2ms/step - loss: 0.5028 - accuracy: 0.8600\n",
            "Epoch 40/100\n",
            "24/24 [==============================] - 0s 2ms/step - loss: 0.4906 - accuracy: 0.8653\n",
            "Epoch 41/100\n",
            "24/24 [==============================] - 0s 2ms/step - loss: 0.4787 - accuracy: 0.8720\n",
            "Epoch 42/100\n",
            "24/24 [==============================] - 0s 2ms/step - loss: 0.4672 - accuracy: 0.8760\n",
            "Epoch 43/100\n",
            "24/24 [==============================] - 0s 3ms/step - loss: 0.4561 - accuracy: 0.8813\n",
            "Epoch 44/100\n",
            "24/24 [==============================] - 0s 2ms/step - loss: 0.4451 - accuracy: 0.8880\n",
            "Epoch 45/100\n",
            "24/24 [==============================] - 0s 2ms/step - loss: 0.4343 - accuracy: 0.8920\n",
            "Epoch 46/100\n",
            "24/24 [==============================] - 0s 2ms/step - loss: 0.4239 - accuracy: 0.8987\n",
            "Epoch 47/100\n",
            "24/24 [==============================] - 0s 2ms/step - loss: 0.4139 - accuracy: 0.9027\n",
            "Epoch 48/100\n",
            "24/24 [==============================] - 0s 2ms/step - loss: 0.4043 - accuracy: 0.9107\n",
            "Epoch 49/100\n",
            "24/24 [==============================] - 0s 2ms/step - loss: 0.3949 - accuracy: 0.9133\n",
            "Epoch 50/100\n",
            "24/24 [==============================] - 0s 2ms/step - loss: 0.3857 - accuracy: 0.9160\n",
            "Epoch 51/100\n",
            "24/24 [==============================] - 0s 2ms/step - loss: 0.3767 - accuracy: 0.9173\n",
            "Epoch 52/100\n",
            "24/24 [==============================] - 0s 3ms/step - loss: 0.3681 - accuracy: 0.9227\n",
            "Epoch 53/100\n",
            "24/24 [==============================] - 0s 2ms/step - loss: 0.3595 - accuracy: 0.9240\n",
            "Epoch 54/100\n",
            "24/24 [==============================] - 0s 2ms/step - loss: 0.3513 - accuracy: 0.9280\n",
            "Epoch 55/100\n",
            "24/24 [==============================] - 0s 3ms/step - loss: 0.3432 - accuracy: 0.9293\n",
            "Epoch 56/100\n",
            "24/24 [==============================] - 0s 2ms/step - loss: 0.3353 - accuracy: 0.9347\n",
            "Epoch 57/100\n",
            "24/24 [==============================] - 0s 2ms/step - loss: 0.3276 - accuracy: 0.9373\n",
            "Epoch 58/100\n",
            "24/24 [==============================] - 0s 3ms/step - loss: 0.3202 - accuracy: 0.9413\n",
            "Epoch 59/100\n",
            "24/24 [==============================] - 0s 2ms/step - loss: 0.3129 - accuracy: 0.9453\n",
            "Epoch 60/100\n",
            "24/24 [==============================] - 0s 3ms/step - loss: 0.3058 - accuracy: 0.9453\n",
            "Epoch 61/100\n",
            "24/24 [==============================] - 0s 2ms/step - loss: 0.2989 - accuracy: 0.9467\n",
            "Epoch 62/100\n",
            "24/24 [==============================] - 0s 2ms/step - loss: 0.2921 - accuracy: 0.9480\n",
            "Epoch 63/100\n",
            "24/24 [==============================] - 0s 2ms/step - loss: 0.2855 - accuracy: 0.9507\n",
            "Epoch 64/100\n",
            "24/24 [==============================] - 0s 2ms/step - loss: 0.2789 - accuracy: 0.9507\n",
            "Epoch 65/100\n",
            "24/24 [==============================] - 0s 2ms/step - loss: 0.2726 - accuracy: 0.9520\n",
            "Epoch 66/100\n",
            "24/24 [==============================] - 0s 2ms/step - loss: 0.2664 - accuracy: 0.9533\n",
            "Epoch 67/100\n",
            "24/24 [==============================] - 0s 2ms/step - loss: 0.2603 - accuracy: 0.9547\n",
            "Epoch 68/100\n",
            "24/24 [==============================] - 0s 2ms/step - loss: 0.2544 - accuracy: 0.9560\n",
            "Epoch 69/100\n",
            "24/24 [==============================] - 0s 2ms/step - loss: 0.2486 - accuracy: 0.9573\n",
            "Epoch 70/100\n",
            "24/24 [==============================] - 0s 2ms/step - loss: 0.2429 - accuracy: 0.9587\n",
            "Epoch 71/100\n",
            "24/24 [==============================] - 0s 3ms/step - loss: 0.2374 - accuracy: 0.9613\n",
            "Epoch 72/100\n",
            "24/24 [==============================] - 0s 2ms/step - loss: 0.2320 - accuracy: 0.9627\n",
            "Epoch 73/100\n",
            "24/24 [==============================] - 0s 3ms/step - loss: 0.2268 - accuracy: 0.9627\n",
            "Epoch 74/100\n",
            "24/24 [==============================] - 0s 3ms/step - loss: 0.2216 - accuracy: 0.9627\n",
            "Epoch 75/100\n",
            "24/24 [==============================] - 0s 2ms/step - loss: 0.2166 - accuracy: 0.9653\n",
            "Epoch 76/100\n",
            "24/24 [==============================] - 0s 3ms/step - loss: 0.2117 - accuracy: 0.9680\n",
            "Epoch 77/100\n",
            "24/24 [==============================] - 0s 3ms/step - loss: 0.2070 - accuracy: 0.9680\n",
            "Epoch 78/100\n",
            "24/24 [==============================] - 0s 2ms/step - loss: 0.2023 - accuracy: 0.9693\n",
            "Epoch 79/100\n",
            "24/24 [==============================] - 0s 2ms/step - loss: 0.1977 - accuracy: 0.9720\n",
            "Epoch 80/100\n",
            "24/24 [==============================] - 0s 3ms/step - loss: 0.1933 - accuracy: 0.9747\n",
            "Epoch 81/100\n",
            "24/24 [==============================] - 0s 2ms/step - loss: 0.1890 - accuracy: 0.9773\n",
            "Epoch 82/100\n",
            "24/24 [==============================] - 0s 3ms/step - loss: 0.1847 - accuracy: 0.9773\n",
            "Epoch 83/100\n",
            "24/24 [==============================] - 0s 3ms/step - loss: 0.1806 - accuracy: 0.9773\n",
            "Epoch 84/100\n",
            "24/24 [==============================] - 0s 3ms/step - loss: 0.1766 - accuracy: 0.9800\n",
            "Epoch 85/100\n",
            "24/24 [==============================] - 0s 3ms/step - loss: 0.1726 - accuracy: 0.9800\n",
            "Epoch 86/100\n",
            "24/24 [==============================] - 0s 2ms/step - loss: 0.1688 - accuracy: 0.9813\n",
            "Epoch 87/100\n",
            "24/24 [==============================] - 0s 3ms/step - loss: 0.1652 - accuracy: 0.9853\n",
            "Epoch 88/100\n",
            "24/24 [==============================] - 0s 2ms/step - loss: 0.1615 - accuracy: 0.9867\n",
            "Epoch 89/100\n",
            "24/24 [==============================] - 0s 3ms/step - loss: 0.1580 - accuracy: 0.9880\n",
            "Epoch 90/100\n",
            "24/24 [==============================] - 0s 2ms/step - loss: 0.1547 - accuracy: 0.9880\n",
            "Epoch 91/100\n",
            "24/24 [==============================] - 0s 2ms/step - loss: 0.1514 - accuracy: 0.9907\n",
            "Epoch 92/100\n",
            "24/24 [==============================] - 0s 2ms/step - loss: 0.1482 - accuracy: 0.9907\n",
            "Epoch 93/100\n",
            "24/24 [==============================] - 0s 2ms/step - loss: 0.1450 - accuracy: 0.9920\n",
            "Epoch 94/100\n",
            "24/24 [==============================] - 0s 2ms/step - loss: 0.1420 - accuracy: 0.9920\n",
            "Epoch 95/100\n",
            "24/24 [==============================] - 0s 2ms/step - loss: 0.1390 - accuracy: 0.9920\n",
            "Epoch 96/100\n",
            "24/24 [==============================] - 0s 2ms/step - loss: 0.1361 - accuracy: 0.9933\n",
            "Epoch 97/100\n",
            "24/24 [==============================] - 0s 2ms/step - loss: 0.1333 - accuracy: 0.9933\n",
            "Epoch 98/100\n",
            "24/24 [==============================] - 0s 2ms/step - loss: 0.1305 - accuracy: 0.9933\n",
            "Epoch 99/100\n",
            "24/24 [==============================] - 0s 3ms/step - loss: 0.1279 - accuracy: 0.9933\n",
            "Epoch 100/100\n",
            "24/24 [==============================] - 0s 2ms/step - loss: 0.1253 - accuracy: 0.9933\n"
          ]
        }
      ]
    },
    {
      "cell_type": "code",
      "source": [
        "#visualize the loss and accuracy metrics across all epochs\n",
        "#create a df containing the training history that is stored in the model obj\n",
        "history_df = pd.DataFrame(fit_model.history, index=range(1,len(fit_model.history[\"loss\"])+1))\n",
        "\n",
        "#plot the loss\n",
        "history_df.plot(y=\"loss\")"
      ],
      "metadata": {
        "colab": {
          "base_uri": "https://localhost:8080/",
          "height": 282
        },
        "id": "gPLabvFzQ3Wd",
        "outputId": "0e7b6415-e910-4810-90f7-e64dc2483502"
      },
      "execution_count": 14,
      "outputs": [
        {
          "output_type": "execute_result",
          "data": {
            "text/plain": [
              "<matplotlib.axes._subplots.AxesSubplot at 0x7ff85d74a850>"
            ]
          },
          "metadata": {},
          "execution_count": 14
        },
        {
          "output_type": "display_data",
          "data": {
            "text/plain": [
              "<Figure size 432x288 with 1 Axes>"
            ],
            "image/png": "[encoded data removed]"
          },
          "metadata": {
            "needs_background": "light"
          }
        }
      ]
    },
    {
      "cell_type": "code",
      "source": [
        "# Plot the accuracy\n",
        "history_df.plot(y=\"accuracy\")"
      ],
      "metadata": {
        "colab": {
          "base_uri": "https://localhost:8080/",
          "height": 282
        },
        "id": "iknahIgISXM9",
        "outputId": "3d902fd7-df4e-4eba-fe30-d5387295a070"
      },
      "execution_count": 15,
      "outputs": [
        {
          "output_type": "execute_result",
          "data": {
            "text/plain": [
              "<matplotlib.axes._subplots.AxesSubplot at 0x7ff860c87e10>"
            ]
          },
          "metadata": {},
          "execution_count": 15
        },
        {
          "output_type": "display_data",
          "data": {
            "text/plain": [
              "<Figure size 432x288 with 1 Axes>"
            ],
            "image/png": "[encoded data removed]"
          },
          "metadata": {
            "needs_background": "light"
          }
        }
      ]
    },
    {
      "cell_type": "code",
      "source": [
        "#evaluate the model using the test data\n",
        "model_loss, model_accuracy = nm_model.evaluate(X_test_scaled, y_test,verbose=2)\n",
        "print(f\"Loss: {model_loss}, Accuracy: {model_accuracy}\")"
      ],
      "metadata": {
        "colab": {
          "base_uri": "https://localhost:8080/"
        },
        "id": "fMqGTFBWSjk7",
        "outputId": "818dac40-7bda-48fd-dea1-227a0d8c61ed"
      },
      "execution_count": 16,
      "outputs": [
        {
          "output_type": "stream",
          "name": "stdout",
          "text": [
            "8/8 - 0s - loss: 0.1219 - accuracy: 0.9960 - 237ms/epoch - 30ms/step\n",
            "Loss: 0.12191000580787659, Accuracy: 0.9959999918937683\n"
          ]
        }
      ]
    },
    {
      "cell_type": "code",
      "source": [
        "#use the model to predict the classification of a new blob dataset\n",
        "new_X, new_y = make_blobs(n_samples=10, centers=2, n_features=2, random_state=78)\n",
        "\n",
        "#scale the new x data\n",
        "new_X_scaled = X_scaler.transform(new_X)\n",
        "(nm_model.predict(new_X_scaled) > 0.5).astype(\"int32\")"
      ],
      "metadata": {
        "colab": {
          "base_uri": "https://localhost:8080/"
        },
        "id": "SjUeKvy1Uxqj",
        "outputId": "913feaab-e658-4a08-9aec-8829bede4e24"
      },
      "execution_count": 18,
      "outputs": [
        {
          "output_type": "execute_result",
          "data": {
            "text/plain": [
              "array([[0],\n",
              "       [1],\n",
              "       [0],\n",
              "       [1],\n",
              "       [0],\n",
              "       [0],\n",
              "       [1],\n",
              "       [1],\n",
              "       [1],\n",
              "       [0]], dtype=int32)"
            ]
          },
          "metadata": {},
          "execution_count": 18
        }
      ]
    },
    {
      "cell_type": "code",
      "source": [
        ""
      ],
      "metadata": {
        "id": "_EFwH47fXomo"
      },
      "execution_count": null,
      "outputs": []
    }
  ]
}